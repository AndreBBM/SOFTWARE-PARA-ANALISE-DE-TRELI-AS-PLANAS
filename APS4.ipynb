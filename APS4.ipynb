{
 "cells": [
  {
   "cell_type": "code",
   "execution_count": 78,
   "metadata": {},
   "outputs": [
    {
     "name": "stdout",
     "output_type": "stream",
     "text": [
      "[[  0. 144. 192. 288. 384. 432. 576.]\n",
      " [  0.  72.   0. 144.   0.  72.   0.]]\n",
      "\n",
      "\n",
      "\n",
      "[[160.99689438]\n",
      " [160.99689438]\n",
      " [160.99689438]\n",
      " [160.99689438]\n",
      " [ 86.53323061]\n",
      " [173.06646122]\n",
      " [173.06646122]\n",
      " [ 86.53323061]\n",
      " [192.        ]\n",
      " [192.        ]\n",
      " [192.        ]]\n",
      "[[160.99689438]\n",
      " [160.99689438]\n",
      " [160.99689438]\n",
      " [160.99689438]\n",
      " [ 86.53323061]\n",
      " [173.06646122]\n",
      " [173.06646122]\n",
      " [ 86.53323061]\n",
      " [192.        ]\n",
      " [192.        ]\n",
      " [192.        ]]\n"
     ]
    }
   ],
   "source": [
    "from funcoesTermosol import importa, plota, geraSaida, gauss_seidel\n",
    "import numpy as np\n",
    "\n",
    "[nn,N,nm,Inc,nc,F,nr,R, L, angle] = importa('entrada2.xlsx')\n",
    "print(L)\n",
    "geraSaida('teste',F,F,F,F,F)"
   ]
  },
  {
   "cell_type": "code",
   "execution_count": 79,
   "metadata": {},
   "outputs": [],
   "source": [
    "# Define a matriz de rigidez local para cada barra\n",
    "K = []\n",
    "nos = np.zeros((nm,2))\n",
    "for i in range(nm):\n",
    "    E = Inc[i,2]\n",
    "    A = Inc[i,3]\n",
    "    Li = L[i][0]\n",
    "    theta = angle[i,0]\n",
    "\n",
    "    nos[i,0] = Inc[i,0]\n",
    "    nos[i,1] = Inc[i,1]\n",
    "\n",
    "    K1 = np.zeros((4,4), dtype=float)\n",
    "\n",
    "    K1[0,0] = (E*A/Li)*np.cos(theta)**2\n",
    "    K1[0,1] = (E*A/Li)*np.cos(theta)*np.sin(theta)\n",
    "    K1[0,2] = -(E*A/Li)*np.cos(theta)**2\n",
    "    K1[0,3] = -(E*A/Li)*np.cos(theta)*np.sin(theta)\n",
    "\n",
    "    K1[1,0] = (E*A/Li)*np.cos(theta)*np.sin(theta)\n",
    "    K1[1,1] = (E*A/Li)*np.sin(theta)**2\n",
    "    K1[1,2] = -(E*A/Li)*np.cos(theta)*np.sin(theta)\n",
    "    K1[1,3] = -(E*A/Li)*np.sin(theta)**2\n",
    "\n",
    "    K1[2,0] = -(E*A/Li)*np.cos(theta)**2\n",
    "    K1[2,1] = -(E*A/Li)*np.cos(theta)*np.sin(theta)\n",
    "    K1[2,2] = (E*A/Li)*np.cos(theta)**2\n",
    "    K1[2,3] = (E*A/Li)*np.cos(theta)*np.sin(theta)\n",
    "\n",
    "    K1[3,0] = -(E*A/Li)*np.cos(theta)*np.sin(theta)\n",
    "    K1[3,1] = -(E*A/Li)*np.sin(theta)**2\n",
    "    K1[3,2] = (E*A/Li)*np.cos(theta)*np.sin(theta)\n",
    "    K1[3,3] = (E*A/Li)*np.sin(theta)**2\n",
    "    K.append(K1)\n",
    "\n",
    "# if a number in K is between -1e-8 and 1e-8, it is considered 0\n",
    "for i in range(nn):\n",
    "    for j in range(4):\n",
    "        for k in range(4):\n",
    "            if K[i][j,k] < 1e-8 and K[i][j,k] > -1e-8:\n",
    "                K[i][j,k] = 0\n",
    "\n",
    "\n",
    "# Define a matriz global de rigidez\n",
    "KG = np.zeros((nn*2,nn*2))\n",
    "\n",
    "for count, matrizLocal in enumerate(K):\n",
    "    n = nos[count]\n",
    "    m1 = int(n[0])\n",
    "    m2 = int(n[1])\n",
    "    KG[np.ix_([(m1 - 1)*2, (m1 - 1)*2+1, (m2 - 1)*2, (m2 - 1)*2+1], [(m1 - 1)*2, (m1 - 1)*2+1, (m2 - 1)*2, (m2 - 1)*2+1])] += matrizLocal[0:4,0:4]\n",
    "\n",
    "KGoriginal = KG.copy()\n",
    "\n",
    "for r in R:\n",
    "    KG[int(r[0]-1)*2  + (int(r[1]) - 1), :] = 0\n",
    "    KG[:, int(r[0]-1)*2  + (int(r[1]) - 1)] = 0\n",
    "\n",
    "# KGfinal = KG[np.ix_([1,4,5],[1,4,5])]\n",
    "notzero = np.arange(0,nn*2)\n",
    "for i in range(len(R)):\n",
    "    if (R[i,0]-1)*2 + (R[i,1] - 1) in notzero:\n",
    "        notzero = np.delete(notzero, np.where(notzero == (R[i,0]-1)*2 + (R[i,1] - 1)))\n",
    "\n",
    "KGfinal = KG[np.ix_(notzero,notzero)]\n",
    "\n",
    "fglobal = F.copy()\n",
    "fglobal  = fglobal[np.ix_(notzero)]\n"
   ]
  },
  {
   "cell_type": "code",
   "execution_count": 80,
   "metadata": {},
   "outputs": [
    {
     "name": "stdout",
     "output_type": "stream",
     "text": [
      "[[ 0.        ]\n",
      " [ 0.        ]\n",
      " [ 0.00100461]\n",
      " [-0.00431138]\n",
      " [ 0.0003597 ]\n",
      " [-0.00466275]\n",
      " [ 0.00025966]\n",
      " [-0.00443891]\n",
      " [ 0.00055848]\n",
      " [-0.00463723]\n",
      " [-0.00032433]\n",
      " [-0.00424746]\n",
      " [ 0.00116435]\n",
      " [ 0.        ]]\n"
     ]
    }
   ],
   "source": [
    "# K x u = F\n",
    "\n",
    "u = np.zeros((len(notzero),1))\n",
    "\n",
    "x = gauss_seidel(KGfinal, fglobal, u, 1e-10, 10000)\n",
    "\n",
    "utotal = np.zeros((nn*2,1))\n",
    "for i in range(len(notzero)):\n",
    "    utotal[notzero[i]] = x[i]\n",
    "\n",
    "print(utotal)"
   ]
  },
  {
   "cell_type": "code",
   "execution_count": 81,
   "metadata": {},
   "outputs": [
    {
     "data": {
      "text/plain": [
       "array([[-6.39488913e-06],\n",
       "       [-4.49289667e-06],\n",
       "       [-3.77617714e-06],\n",
       "       [-3.52806261e-06],\n",
       "       [-7.55507581e-07],\n",
       "       [ 7.55469246e-07],\n",
       "       [ 1.91118456e-06],\n",
       "       [-1.91125630e-06],\n",
       "       [ 1.87345034e-06],\n",
       "       [ 1.03527879e-06],\n",
       "       [ 3.15559513e-06]])"
      ]
     },
     "execution_count": 81,
     "metadata": {},
     "output_type": "execute_result"
    }
   ],
   "source": [
    "# Deformação específica em cada elemento \n",
    "defEsp = np.zeros((nm,1))\n",
    "for i in range(nm):\n",
    "    E = Inc[i,2]\n",
    "    A = Inc[i,3]\n",
    "    Li = L[i][0]\n",
    "    theta = angle[i,0]\n",
    "\n",
    "    defEsp[i] = (1/Li)*np.matmul(np.array([-np.cos(theta), -np.sin(theta), np.cos(theta), np.sin(theta)]), \n",
    "                                 np.array([utotal[int(nos[i,0])*2 - 2], utotal[int(nos[i,0])*2 - 1], utotal[int(nos[i,1])*2 - 2], utotal[int(nos[i,1])*2 - 1]]))\n",
    "\n",
    "defEsp"
   ]
  },
  {
   "cell_type": "code",
   "execution_count": 82,
   "metadata": {},
   "outputs": [
    {
     "data": {
      "text/plain": [
       "array([[-1235.10888745],\n",
       "       [ -867.75806197],\n",
       "       [ -729.33085346],\n",
       "       [ -681.41001242],\n",
       "       [ -145.91873428],\n",
       "       [  145.91133013],\n",
       "       [  369.12618544],\n",
       "       [ -369.14004162],\n",
       "       [  361.83819873],\n",
       "       [  199.95374457],\n",
       "       [  609.47164333]])"
      ]
     },
     "execution_count": 82,
     "metadata": {},
     "output_type": "execute_result"
    }
   ],
   "source": [
    "# Tensão em cada elemento\n",
    "\n",
    "tensao = np.zeros((nm,1))\n",
    "for i in range(nm):\n",
    "    E = Inc[i,2]\n",
    "    A = Inc[i,3]\n",
    "    Li = L[i][0]\n",
    "    theta = angle[i,0]\n",
    "\n",
    "    tensao[i] = E*defEsp[i]\n",
    "\n",
    "tensao"
   ]
  },
  {
   "cell_type": "code",
   "execution_count": 83,
   "metadata": {},
   "outputs": [
    {
     "name": "stdout",
     "output_type": "stream",
     "text": [
      "[[ 3.90010306e+03]\n",
      " [ 2.89987680e+03]\n",
      " [-1.30004394e+03]\n",
      " [-1.49990405e+03]\n",
      " [ 3.28658774e-02]\n",
      " [ 3.23432888e-02]\n",
      " [-1.30005951e+03]\n",
      " [-1.49993949e+03]\n",
      " [-7.75812219e-03]\n",
      " [ 6.05274372e-02]\n",
      " [-1.30002472e+03]\n",
      " [-1.49998920e+03]\n",
      " [ 0.00000000e+00]\n",
      " [ 1.59986306e+03]]\n",
      "[3900.10306378]\n",
      "[2899.87680356]\n",
      "[1599.86306373]\n"
     ]
    },
    {
     "data": {
      "text/plain": [
       "array([[3900.10306378],\n",
       "       [2899.87680356],\n",
       "       [1599.86306373]])"
      ]
     },
     "execution_count": 83,
     "metadata": {},
     "output_type": "execute_result"
    }
   ],
   "source": [
    "# Reações de apoio\n",
    "reacoes = np.zeros((nm,1))\n",
    "reacoes = np.matmul(KGoriginal,utotal) \n",
    "print(reacoes)\n",
    "reacoesApoio = np.zeros((len(R),1))\n",
    "i = 0\n",
    "for r in R:\n",
    "    print(reacoes[int(r[0]-1)*2 + (int(r[1]) - 1)])\n",
    "    reacoesApoio[i] = reacoes[int(r[0]-1)*2 + (int(r[1]) - 1)]\n",
    "    i += 1\n",
    "\n",
    "reacoesApoio"
   ]
  },
  {
   "cell_type": "code",
   "execution_count": 84,
   "metadata": {},
   "outputs": [
    {
     "data": {
      "text/plain": [
       "array([[-6484.32165913],\n",
       "       [-4555.72982534],\n",
       "       [-3828.98698068],\n",
       "       [-3577.40256519],\n",
       "       [ -766.07335498],\n",
       "       [  766.03448319],\n",
       "       [ 1937.91247358],\n",
       "       [-1937.9852185 ],\n",
       "       [ 1899.65054334],\n",
       "       [ 1049.75715899],\n",
       "       [ 3199.72612746]])"
      ]
     },
     "execution_count": 84,
     "metadata": {},
     "output_type": "execute_result"
    }
   ],
   "source": [
    "# Força interna em cada barra\n",
    "forcaInterna = np.zeros((nm,1))\n",
    "for i in range(nm):\n",
    "    A = Inc[i,3]\n",
    "    \n",
    "    forcaInterna[i] = tensao[i]*A\n",
    "\n",
    "forcaInterna"
   ]
  },
  {
   "cell_type": "code",
   "execution_count": 85,
   "metadata": {},
   "outputs": [],
   "source": [
    "geraSaida(\"saida\", reacoesApoio, utotal, defEsp, forcaInterna, tensao)"
   ]
  }
 ],
 "metadata": {
  "kernelspec": {
   "display_name": "Python 3",
   "language": "python",
   "name": "python3"
  },
  "language_info": {
   "codemirror_mode": {
    "name": "ipython",
    "version": 3
   },
   "file_extension": ".py",
   "mimetype": "text/x-python",
   "name": "python",
   "nbconvert_exporter": "python",
   "pygments_lexer": "ipython3",
   "version": "3.10.7"
  },
  "orig_nbformat": 4
 },
 "nbformat": 4,
 "nbformat_minor": 2
}
