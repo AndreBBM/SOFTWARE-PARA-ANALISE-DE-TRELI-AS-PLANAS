{
 "cells": [
  {
   "cell_type": "code",
   "execution_count": 1,
   "metadata": {},
   "outputs": [
    {
     "name": "stdout",
     "output_type": "stream",
     "text": [
      "[[1.0e+00 2.0e+00 2.1e+11 2.0e-04]\n",
      " [2.0e+00 3.0e+00 2.1e+11 2.0e-04]\n",
      " [3.0e+00 1.0e+00 2.1e+11 2.0e-04]]\n",
      "[[1. 1.]\n",
      " [2. 1.]\n",
      " [2. 2.]]\n"
     ]
    }
   ],
   "source": [
    "from funcoesTermosol import importa, plota, geraSaida\n",
    "import numpy as np\n",
    "\n",
    "[nn,N,nm,Inc,nc,F,nr,R, L, angle] = importa('entrada.xlsx')\n",
    "print(R)\n",
    "geraSaida('teste',F,F,F,F,F)"
   ]
  },
  {
   "cell_type": "code",
   "execution_count": 16,
   "metadata": {},
   "outputs": [
    {
     "name": "stdout",
     "output_type": "stream",
     "text": [
      "[[   0.]\n",
      " [   0.]\n",
      " [   0.]\n",
      " [   0.]\n",
      " [ 150.]\n",
      " [-100.]]\n",
      "[[  5040000.   6720000.         0.         0.  -5040000.  -6720000.]\n",
      " [  6720000.  50960000.         0. -42000000.  -6720000.  -8960000.]\n",
      " [        0.         0.  21000000.         0. -21000000.         0.]\n",
      " [        0. -42000000.         0.  42000000.         0.         0.]\n",
      " [ -5040000.  -6720000. -21000000.         0.  26040000.   6720000.]\n",
      " [ -6720000.  -8960000.         0.         0.   6720000.   8960000.]]\n",
      "[[       0.        0.        0.        0.        0.        0.]\n",
      " [       0. 50960000.        0.        0. -6720000. -8960000.]\n",
      " [       0.        0.        0.        0.        0.        0.]\n",
      " [       0.        0.        0.        0.        0.        0.]\n",
      " [       0. -6720000.        0.        0. 26040000.  6720000.]\n",
      " [       0. -8960000.        0.        0.  6720000.  8960000.]]\n"
     ]
    }
   ],
   "source": [
    "# Define a matriz de rigidez local para cada barra\n",
    "K = []\n",
    "nos = np.zeros((nm,2))\n",
    "\n",
    "for i in range(nm):\n",
    "    E = Inc[i,2]\n",
    "    A = Inc[i,3]\n",
    "    L = Inc[i,0]\n",
    "    theta = angle[i,0]\n",
    "\n",
    "    nos[i,0] = Inc[i,0]\n",
    "    nos[i,1] = Inc[i,1]\n",
    "\n",
    "    K1 = np.zeros((4,4))\n",
    "\n",
    "    K1[0,0] = (E*A/L)*np.cos(theta)**2\n",
    "    K1[0,1] = (E*A/L)*np.cos(theta)*np.sin(theta)\n",
    "    K1[0,2] = -(E*A/L)*np.cos(theta)**2\n",
    "    K1[0,3] = -(E*A/L)*np.cos(theta)*np.sin(theta)\n",
    "\n",
    "    K1[1,0] = (E*A/L)*np.cos(theta)*np.sin(theta)\n",
    "    K1[1,1] = (E*A/L)*np.sin(theta)**2\n",
    "    K1[1,2] = -(E*A/L)*np.cos(theta)*np.sin(theta)\n",
    "    K1[1,3] = -(E*A/L)*np.sin(theta)**2\n",
    "\n",
    "    K1[2,0] = -(E*A/L)*np.cos(theta)**2\n",
    "    K1[2,1] = -(E*A/L)*np.cos(theta)*np.sin(theta)\n",
    "    K1[2,2] = (E*A/L)*np.cos(theta)**2\n",
    "    K1[2,3] = (E*A/L)*np.cos(theta)*np.sin(theta)\n",
    "\n",
    "    K1[3,0] = -(E*A/L)*np.cos(theta)*np.sin(theta)\n",
    "    K1[3,1] = -(E*A/L)*np.sin(theta)**2\n",
    "    K1[3,2] = (E*A/L)*np.cos(theta)*np.sin(theta)\n",
    "    K1[3,3] = (E*A/L)*np.sin(theta)**2\n",
    "    K.append(K1)\n",
    "\n",
    "# if a number in K is between -1e-8 and 1e-8, it is considered 0\n",
    "for i in range(nm):\n",
    "    for j in range(4):\n",
    "        for k in range(4):\n",
    "            if K[i][j,k] < 1e-8 and K[i][j,k] > -1e-8:\n",
    "                K[i][j,k] = 0\n",
    "\n",
    "\n",
    "# Define a matriz global de rigidez\n",
    "KG = np.zeros((nn*2,nn*2))\n",
    "print(F)\n",
    "\n",
    "for count, matrizLocal in enumerate(K):\n",
    "    n = nos[count]\n",
    "    m1 = int(n[0])\n",
    "    m2 = int(n[1])\n",
    "    KG[np.ix_([(m1 - 1)*2, (m1 - 1)*2+1, (m2 - 1)*2, (m2 - 1)*2+1], [(m1 - 1)*2, (m1 - 1)*2+1, (m2 - 1)*2, (m2 - 1)*2+1])] += matrizLocal[0:4,0:4]\n",
    "\n",
    "for r in R:\n",
    "    KG[int(r[0]-1)*2  + (int(r[1]) - 1), :] = 0\n",
    "    KG[:, int(r[0]-1)*2  + (int(r[1]) - 1)] = 0\n",
    "\n",
    "print(KG)\n",
    "\n",
    "fglobal = F.copy()"
   ]
  }
 ],
 "metadata": {
  "kernelspec": {
   "display_name": "Python 3",
   "language": "python",
   "name": "python3"
  },
  "language_info": {
   "codemirror_mode": {
    "name": "ipython",
    "version": 3
   },
   "file_extension": ".py",
   "mimetype": "text/x-python",
   "name": "python",
   "nbconvert_exporter": "python",
   "pygments_lexer": "ipython3",
   "version": "3.10.7"
  },
  "orig_nbformat": 4
 },
 "nbformat": 4,
 "nbformat_minor": 2
}
