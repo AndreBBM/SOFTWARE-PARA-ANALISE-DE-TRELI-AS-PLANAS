{
 "cells": [
  {
   "cell_type": "code",
   "execution_count": 1,
   "metadata": {},
   "outputs": [
    {
     "name": "stdout",
     "output_type": "stream",
     "text": [
      "3\n"
     ]
    }
   ],
   "source": [
    "from funcoesTermosol import importa, plota, geraSaida\n",
    "import numpy as np\n",
    "\n",
    "[nn,N,nm,Inc,nc,F,nr,R, L, angle] = importa('entrada.xlsx')\n",
    "print(nm)\n",
    "geraSaida('teste',F,F,F,F,F)"
   ]
  },
  {
   "cell_type": "code",
   "execution_count": 5,
   "metadata": {},
   "outputs": [
    {
     "name": "stdout",
     "output_type": "stream",
     "text": [
      "0\n",
      "1\n",
      "2\n",
      "[array([[ 1.57474777e-25,  2.57175828e-09, -1.57474777e-25,\n",
      "        -2.57175828e-09],\n",
      "       [ 2.57175828e-09,  4.20000000e+07, -2.57175828e-09,\n",
      "        -4.20000000e+07],\n",
      "       [-1.57474777e-25, -2.57175828e-09,  1.57474777e-25,\n",
      "         2.57175828e-09],\n",
      "       [-2.57175828e-09, -4.20000000e+07,  2.57175828e-09,\n",
      "         4.20000000e+07]]), array([[ 21000000.,         0., -21000000.,        -0.],\n",
      "       [        0.,         0.,        -0.,        -0.],\n",
      "       [-21000000.,        -0.,  21000000.,         0.],\n",
      "       [       -0.,        -0.,         0.,         0.]]), array([[ 5040000.,  6720000., -5040000., -6720000.],\n",
      "       [ 6720000.,  8960000., -6720000., -8960000.],\n",
      "       [-5040000., -6720000.,  5040000.,  6720000.],\n",
      "       [-6720000., -8960000.,  6720000.,  8960000.]])]\n"
     ]
    }
   ],
   "source": [
    "# c**2      cs      -c**2   -cs\n",
    "# cs        s**2    -cs     -s**2\n",
    "# -c**2     -cs     c**2    cs\n",
    "# -cs       -s**2   cs      s**2\n",
    "KG = []\n",
    "for i in range(nm):\n",
    "    print(i)\n",
    "    E = Inc[i,2]\n",
    "    A = Inc[i,3]\n",
    "    L = Inc[i,0]\n",
    "    theta = angle[i,0]\n",
    "    K1 = np.zeros((4,4))\n",
    "\n",
    "    K1[0,0] = (E*A/L)*np.cos(theta)**2\n",
    "    K1[0,1] = (E*A/L)*np.cos(theta)*np.sin(theta)\n",
    "    K1[0,2] = -(E*A/L)*np.cos(theta)**2\n",
    "    K1[0,3] = -(E*A/L)*np.cos(theta)*np.sin(theta)\n",
    "\n",
    "    K1[1,0] = (E*A/L)*np.cos(theta)*np.sin(theta)\n",
    "    K1[1,1] = (E*A/L)*np.sin(theta)**2\n",
    "    K1[1,2] = -(E*A/L)*np.cos(theta)*np.sin(theta)\n",
    "    K1[1,3] = -(E*A/L)*np.sin(theta)**2\n",
    "\n",
    "    K1[2,0] = -(E*A/L)*np.cos(theta)**2\n",
    "    K1[2,1] = -(E*A/L)*np.cos(theta)*np.sin(theta)\n",
    "    K1[2,2] = (E*A/L)*np.cos(theta)**2\n",
    "    K1[2,3] = (E*A/L)*np.cos(theta)*np.sin(theta)\n",
    "\n",
    "    K1[3,0] = -(E*A/L)*np.cos(theta)*np.sin(theta)\n",
    "    K1[3,1] = -(E*A/L)*np.sin(theta)**2\n",
    "    K1[3,2] = (E*A/L)*np.cos(theta)*np.sin(theta)\n",
    "    K1[3,3] = (E*A/L)*np.sin(theta)**2\n",
    "    KG.append(K1)\n",
    "\n",
    "print(KG)"
   ]
  }
 ],
 "metadata": {
  "kernelspec": {
   "display_name": "Python 3",
   "language": "python",
   "name": "python3"
  },
  "language_info": {
   "codemirror_mode": {
    "name": "ipython",
    "version": 3
   },
   "file_extension": ".py",
   "mimetype": "text/x-python",
   "name": "python",
   "nbconvert_exporter": "python",
   "pygments_lexer": "ipython3",
   "version": "3.10.7"
  },
  "orig_nbformat": 4
 },
 "nbformat": 4,
 "nbformat_minor": 2
}
