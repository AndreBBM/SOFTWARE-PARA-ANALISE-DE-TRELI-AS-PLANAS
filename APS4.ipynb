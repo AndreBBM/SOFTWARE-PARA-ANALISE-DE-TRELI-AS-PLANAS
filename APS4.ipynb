{
 "cells": [
  {
   "cell_type": "code",
   "execution_count": 30,
   "metadata": {},
   "outputs": [
    {
     "name": "stdout",
     "output_type": "stream",
     "text": [
      "7 [[0.    0.144 0.192 0.288 0.384 0.432 0.576]\n",
      " [0.    0.072 0.    0.144 0.    0.072 0.   ]] 11\n"
     ]
    }
   ],
   "source": [
    "from funcoesTermosol import importa, plota, geraSaida, gauss_seidel\n",
    "import numpy as np\n",
    "\n",
    "[nn,N,nm,Inc,nc,F,nr,R, L, angle] = importa('entrada2.xlsx')\n",
    "print(nn, N, nm)"
   ]
  },
  {
   "cell_type": "code",
   "execution_count": 31,
   "metadata": {},
   "outputs": [],
   "source": [
    "# Define a matriz de rigidez local para cada barra\n",
    "K = []\n",
    "nos = np.zeros((nm,2))\n",
    "for i in range(nm):\n",
    "    E = Inc[i,2]\n",
    "    A = Inc[i,3]\n",
    "    Li = L[i][0]\n",
    "    theta = angle[i,0]\n",
    "\n",
    "    nos[i,0] = Inc[i,0]\n",
    "    nos[i,1] = Inc[i,1]\n",
    "\n",
    "    K1 = np.zeros((4,4), dtype=float)\n",
    "\n",
    "    K1[0,0] = (E*A/Li)*np.cos(theta)**2\n",
    "    K1[0,1] = (E*A/Li)*np.cos(theta)*np.sin(theta)\n",
    "    K1[0,2] = -(E*A/Li)*np.cos(theta)**2\n",
    "    K1[0,3] = -(E*A/Li)*np.cos(theta)*np.sin(theta)\n",
    "\n",
    "    K1[1,0] = (E*A/Li)*np.cos(theta)*np.sin(theta)\n",
    "    K1[1,1] = (E*A/Li)*np.sin(theta)**2\n",
    "    K1[1,2] = -(E*A/Li)*np.cos(theta)*np.sin(theta)\n",
    "    K1[1,3] = -(E*A/Li)*np.sin(theta)**2\n",
    "\n",
    "    K1[2,0] = -(E*A/Li)*np.cos(theta)**2\n",
    "    K1[2,1] = -(E*A/Li)*np.cos(theta)*np.sin(theta)\n",
    "    K1[2,2] = (E*A/Li)*np.cos(theta)**2\n",
    "    K1[2,3] = (E*A/Li)*np.cos(theta)*np.sin(theta)\n",
    "\n",
    "    K1[3,0] = -(E*A/Li)*np.cos(theta)*np.sin(theta)\n",
    "    K1[3,1] = -(E*A/Li)*np.sin(theta)**2\n",
    "    K1[3,2] = (E*A/Li)*np.cos(theta)*np.sin(theta)\n",
    "    K1[3,3] = (E*A/Li)*np.sin(theta)**2\n",
    "    K.append(K1)\n",
    "\n",
    "# if a number in K is between -1e-8 and 1e-8, it is considered 0\n",
    "for i in range(nn):\n",
    "    for j in range(4):\n",
    "        for k in range(4):\n",
    "            if K[i][j,k] < 1e-8 and K[i][j,k] > -1e-8:\n",
    "                K[i][j,k] = 0\n",
    "\n",
    "\n",
    "# Define a matriz global de rigidez\n",
    "KG = np.zeros((nn*2,nn*2))\n",
    "\n",
    "for count, matrizLocal in enumerate(K):\n",
    "    n = nos[count]\n",
    "    m1 = int(n[0])\n",
    "    m2 = int(n[1])\n",
    "    KG[np.ix_([(m1 - 1)*2, (m1 - 1)*2+1, (m2 - 1)*2, (m2 - 1)*2+1], [(m1 - 1)*2, (m1 - 1)*2+1, (m2 - 1)*2, (m2 - 1)*2+1])] += matrizLocal[0:4,0:4]\n",
    "\n",
    "KGoriginal = KG.copy()\n",
    "\n",
    "for r in R:\n",
    "    KG[int(r[0]-1)*2  + (int(r[1]) - 1), :] = 0\n",
    "    KG[:, int(r[0]-1)*2  + (int(r[1]) - 1)] = 0\n",
    "\n",
    "# KGfinal = KG[np.ix_([1,4,5],[1,4,5])]\n",
    "notzero = np.arange(0,nn*2)\n",
    "for i in range(len(R)):\n",
    "    if (R[i,0]-1)*2 + (R[i,1] - 1) in notzero:\n",
    "        notzero = np.delete(notzero, np.where(notzero == (R[i,0]-1)*2 + (R[i,1] - 1)))\n",
    "\n",
    "KGfinal = KG[np.ix_(notzero,notzero)]\n",
    "\n",
    "fglobal = F.copy()\n",
    "fglobal  = fglobal[np.ix_(notzero)]\n"
   ]
  },
  {
   "cell_type": "code",
   "execution_count": 40,
   "metadata": {},
   "outputs": [
    {
     "name": "stdout",
     "output_type": "stream",
     "text": [
      "[[ 0.        ]\n",
      " [ 0.        ]\n",
      " [ 0.00100461]\n",
      " [-0.00431138]\n",
      " [ 0.0003597 ]\n",
      " [-0.00466275]\n",
      " [ 0.00025966]\n",
      " [-0.00443891]\n",
      " [ 0.00055848]\n",
      " [-0.00463723]\n",
      " [-0.00032433]\n",
      " [-0.00424746]\n",
      " [ 0.00116435]\n",
      " [ 0.        ]]\n"
     ]
    }
   ],
   "source": [
    "# Deslocamentos nodais = Displacement in X and Y\n",
    "\n",
    "u = np.zeros((len(notzero),1))\n",
    "\n",
    "x = gauss_seidel(KGfinal, fglobal, u, 1e-10, 100000)\n",
    "\n",
    "utotal = np.zeros((nn*2,1))\n",
    "for i in range(len(notzero)):\n",
    "    utotal[notzero[i]] = x[i]\n",
    "\n",
    "print(utotal)"
   ]
  },
  {
   "cell_type": "code",
   "execution_count": 33,
   "metadata": {},
   "outputs": [
    {
     "data": {
      "text/plain": [
       "array([[-0.00639489],\n",
       "       [-0.0044929 ],\n",
       "       [-0.00377618],\n",
       "       [-0.00352806],\n",
       "       [-0.00075551],\n",
       "       [ 0.00075547],\n",
       "       [ 0.00191118],\n",
       "       [-0.00191126],\n",
       "       [ 0.00187345],\n",
       "       [ 0.00103528],\n",
       "       [ 0.0031556 ]])"
      ]
     },
     "execution_count": 33,
     "metadata": {},
     "output_type": "execute_result"
    }
   ],
   "source": [
    "# Deformação específica em cada elemento \n",
    "defEsp = np.zeros((nm,1))\n",
    "for i in range(nm):\n",
    "    E = Inc[i,2]\n",
    "    A = Inc[i,3]\n",
    "    Li = L[i][0]\n",
    "    theta = angle[i,0]\n",
    "\n",
    "    defEsp[i] = (1/Li)*np.matmul(np.array([-np.cos(theta), -np.sin(theta), np.cos(theta), np.sin(theta)]), \n",
    "                                 np.array([utotal[int(nos[i,0])*2 - 2], utotal[int(nos[i,0])*2 - 1], utotal[int(nos[i,1])*2 - 2], utotal[int(nos[i,1])*2 - 1]]))\n",
    "\n",
    "defEsp"
   ]
  },
  {
   "cell_type": "code",
   "execution_count": 34,
   "metadata": {},
   "outputs": [
    {
     "data": {
      "text/plain": [
       "array([[-1.23510889e+09],\n",
       "       [-8.67758062e+08],\n",
       "       [-7.29330853e+08],\n",
       "       [-6.81410012e+08],\n",
       "       [-1.45918734e+08],\n",
       "       [ 1.45911330e+08],\n",
       "       [ 3.69126185e+08],\n",
       "       [-3.69140042e+08],\n",
       "       [ 3.61838199e+08],\n",
       "       [ 1.99953745e+08],\n",
       "       [ 6.09471643e+08]])"
      ]
     },
     "execution_count": 34,
     "metadata": {},
     "output_type": "execute_result"
    }
   ],
   "source": [
    "# Tensão em cada elemento\n",
    "# Tensão = Longitudinal Stress User Defined Point\n",
    "tensao = np.zeros((nm,1))\n",
    "for i in range(nm):\n",
    "    E = Inc[i,2]\n",
    "    A = Inc[i,3]\n",
    "    Li = L[i][0]\n",
    "    theta = angle[i,0]\n",
    "\n",
    "    tensao[i] = E*defEsp[i]\n",
    "\n",
    "tensao\n",
    " "
   ]
  },
  {
   "cell_type": "code",
   "execution_count": 35,
   "metadata": {},
   "outputs": [
    {
     "data": {
      "text/plain": [
       "array([[3900.10306378],\n",
       "       [2899.87680356],\n",
       "       [1599.86306373]])"
      ]
     },
     "execution_count": 35,
     "metadata": {},
     "output_type": "execute_result"
    }
   ],
   "source": [
    "# Reações de apoio\n",
    "# Reações de apoio =  reaction forces\n",
    "reacoes = np.zeros((nm,1))\n",
    "reacoes = np.matmul(KGoriginal,utotal) \n",
    "reacoesApoio = np.zeros((len(R),1))\n",
    "i = 0\n",
    "for r in R:\n",
    "    reacoesApoio[i] = reacoes[int(r[0]-1)*2 + (int(r[1]) - 1)]\n",
    "    i += 1\n",
    "\n",
    "reacoesApoio"
   ]
  },
  {
   "cell_type": "code",
   "execution_count": 36,
   "metadata": {},
   "outputs": [
    {
     "data": {
      "text/plain": [
       "array([[-6484.32165913],\n",
       "       [-4555.72982534],\n",
       "       [-3828.98698068],\n",
       "       [-3577.40256519],\n",
       "       [ -766.07335498],\n",
       "       [  766.03448319],\n",
       "       [ 1937.91247358],\n",
       "       [-1937.9852185 ],\n",
       "       [ 1899.65054334],\n",
       "       [ 1049.75715899],\n",
       "       [ 3199.72612746]])"
      ]
     },
     "execution_count": 36,
     "metadata": {},
     "output_type": "execute_result"
    }
   ],
   "source": [
    "# Força interna em cada barra\n",
    "# Força interna = Tensile force\n",
    "forcaInterna = np.zeros((nm,1))\n",
    "for i in range(nm):\n",
    "    A = Inc[i,3]\n",
    "    \n",
    "    forcaInterna[i] = tensao[i]*A\n",
    "\n",
    "forcaInterna"
   ]
  },
  {
   "cell_type": "code",
   "execution_count": 37,
   "metadata": {},
   "outputs": [],
   "source": [
    "geraSaida(\"saida\", reacoesApoio, utotal, defEsp, forcaInterna, tensao)"
   ]
  }
 ],
 "metadata": {
  "kernelspec": {
   "display_name": "Python 3",
   "language": "python",
   "name": "python3"
  },
  "language_info": {
   "codemirror_mode": {
    "name": "ipython",
    "version": 3
   },
   "file_extension": ".py",
   "mimetype": "text/x-python",
   "name": "python",
   "nbconvert_exporter": "python",
   "pygments_lexer": "ipython3",
   "version": "3.10.7"
  },
  "orig_nbformat": 4
 },
 "nbformat": 4,
 "nbformat_minor": 2
}
