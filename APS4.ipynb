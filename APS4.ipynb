{
 "cells": [
  {
   "cell_type": "code",
   "execution_count": 56,
   "metadata": {},
   "outputs": [
    {
     "name": "stdout",
     "output_type": "stream",
     "text": [
      "[[1. 1.]\n",
      " [2. 1.]\n",
      " [2. 2.]]\n"
     ]
    }
   ],
   "source": [
    "from funcoesTermosol import importa, plota, geraSaida, gauss_seidel\n",
    "import numpy as np\n",
    "\n",
    "[nn,N,nm,Inc,nc,F,nr,R, L, angle] = importa('entrada.xlsx')\n",
    "print(R)\n",
    "\n",
    "geraSaida('teste',F,F,F,F,F)"
   ]
  },
  {
   "cell_type": "code",
   "execution_count": 69,
   "metadata": {},
   "outputs": [
    {
     "name": "stdout",
     "output_type": "stream",
     "text": [
      "[1 4 5]\n",
      "[[   0.]\n",
      " [ 150.]\n",
      " [-100.]]\n",
      "[[ 1.5876e+08 -4.0320e+07 -5.3760e+07]\n",
      " [-4.0320e+07  1.7024e+08  4.0320e+07]\n",
      " [-5.3760e+07  4.0320e+07  5.3760e+07]]\n"
     ]
    }
   ],
   "source": [
    "# Define a matriz de rigidez local para cada barra\n",
    "K = []\n",
    "nos = np.zeros((nm,2))\n",
    "\n",
    "for i in range(nm):\n",
    "    E = Inc[i,2]\n",
    "    A = Inc[i,3]\n",
    "    Li = L[i][0]\n",
    "    theta = angle[i,0]\n",
    "\n",
    "    nos[i,0] = Inc[i,0]\n",
    "    nos[i,1] = Inc[i,1]\n",
    "\n",
    "    K1 = np.zeros((4,4), dtype=float)\n",
    "\n",
    "    K1[0,0] = (E*A/Li)*np.cos(theta)**2\n",
    "    K1[0,1] = (E*A/Li)*np.cos(theta)*np.sin(theta)\n",
    "    K1[0,2] = -(E*A/Li)*np.cos(theta)**2\n",
    "    K1[0,3] = -(E*A/Li)*np.cos(theta)*np.sin(theta)\n",
    "\n",
    "    K1[1,0] = (E*A/Li)*np.cos(theta)*np.sin(theta)\n",
    "    K1[1,1] = (E*A/Li)*np.sin(theta)**2\n",
    "    K1[1,2] = -(E*A/Li)*np.cos(theta)*np.sin(theta)\n",
    "    K1[1,3] = -(E*A/Li)*np.sin(theta)**2\n",
    "\n",
    "    K1[2,0] = -(E*A/Li)*np.cos(theta)**2\n",
    "    K1[2,1] = -(E*A/Li)*np.cos(theta)*np.sin(theta)\n",
    "    K1[2,2] = (E*A/Li)*np.cos(theta)**2\n",
    "    K1[2,3] = (E*A/Li)*np.cos(theta)*np.sin(theta)\n",
    "\n",
    "    K1[3,0] = -(E*A/Li)*np.cos(theta)*np.sin(theta)\n",
    "    K1[3,1] = -(E*A/Li)*np.sin(theta)**2\n",
    "    K1[3,2] = (E*A/Li)*np.cos(theta)*np.sin(theta)\n",
    "    K1[3,3] = (E*A/Li)*np.sin(theta)**2\n",
    "    K.append(K1)\n",
    "\n",
    "# if a number in K is between -1e-8 and 1e-8, it is considered 0\n",
    "for i in range(nm):\n",
    "    for j in range(4):\n",
    "        for k in range(4):\n",
    "            if K[i][j,k] < 1e-8 and K[i][j,k] > -1e-8:\n",
    "                K[i][j,k] = 0\n",
    "\n",
    "\n",
    "# Define a matriz global de rigidez\n",
    "KG = np.zeros((nn*2,nn*2))\n",
    "\n",
    "for count, matrizLocal in enumerate(K):\n",
    "    n = nos[count]\n",
    "    m1 = int(n[0])\n",
    "    m2 = int(n[1])\n",
    "    KG[np.ix_([(m1 - 1)*2, (m1 - 1)*2+1, (m2 - 1)*2, (m2 - 1)*2+1], [(m1 - 1)*2, (m1 - 1)*2+1, (m2 - 1)*2, (m2 - 1)*2+1])] += matrizLocal[0:4,0:4]\n",
    "\n",
    "for r in R:\n",
    "    KG[int(r[0]-1)*2  + (int(r[1]) - 1), :] = 0\n",
    "    KG[:, int(r[0]-1)*2  + (int(r[1]) - 1)] = 0\n",
    "\n",
    "# KGfinal = KG[np.ix_([1,4,5],[1,4,5])]\n",
    "notzero = np.arange(0,nn*2)\n",
    "for i in range(len(R)):\n",
    "    if (R[i,0]-1)*2 + (R[i,1] - 1) in notzero:\n",
    "        notzero = np.delete(notzero, np.where(notzero == (R[i,0]-1)*2 + (R[i,1] - 1)))\n",
    "\n",
    "print(notzero)\n",
    "KGfinal = KG[np.ix_(notzero,notzero)]\n",
    "\n",
    "fglobal = F.copy()\n",
    "fglobal  = fglobal[np.ix_(notzero)]\n",
    "print(fglobal)\n",
    "print(KGfinal)"
   ]
  },
  {
   "cell_type": "code",
   "execution_count": 118,
   "metadata": {},
   "outputs": [
    {
     "name": "stdout",
     "output_type": "stream",
     "text": [
      "[[ 0.00000000e+00]\n",
      " [-9.50945067e-07]\n",
      " [ 0.00000000e+00]\n",
      " [ 0.00000000e+00]\n",
      " [ 1.60575208e-06]\n",
      " [-4.01537818e-06]]\n"
     ]
    }
   ],
   "source": [
    "# K x u = F\n",
    "\n",
    "u = np.zeros((len(notzero),1))\n",
    "\n",
    "x = gauss_seidel(KGfinal, fglobal, u, 1e-10, 1000)\n",
    "\n",
    "utotal = np.zeros((nn*2,1))\n",
    "for i in range(len(notzero)):\n",
    "    utotal[notzero[i]] = x[i]\n",
    "\n",
    "print(utotal)"
   ]
  },
  {
   "cell_type": "code",
   "execution_count": 117,
   "metadata": {},
   "outputs": [
    {
     "data": {
      "text/plain": [
       "array([[ 2.37736267e-06],\n",
       "       [ 5.35250694e-06],\n",
       "       [-2.97619048e-06]])"
      ]
     },
     "execution_count": 117,
     "metadata": {},
     "output_type": "execute_result"
    }
   ],
   "source": [
    "# Deformação específica\n",
    "defEsp = np.zeros((nm,1))\n",
    "for i in range(nm):\n",
    "    E = Inc[i,2]\n",
    "    A = Inc[i,3]\n",
    "    Li = L[i][0]\n",
    "    theta = angle[i,0]\n",
    "\n",
    "    defEsp[i] = (1/Li)*np.matmul(np.array([-np.cos(theta), -np.sin(theta), np.cos(theta), np.sin(theta)]), \n",
    "                                 np.array([utotal[int(nos[i,0])*2 - 2], utotal[int(nos[i,0])*2 - 1], utotal[int(nos[i,1])*2 - 2], utotal[int(nos[i,1])*2 - 1]]))\n",
    "\n",
    "defEsp"
   ]
  }
 ],
 "metadata": {
  "kernelspec": {
   "display_name": "Python 3",
   "language": "python",
   "name": "python3"
  },
  "language_info": {
   "codemirror_mode": {
    "name": "ipython",
    "version": 3
   },
   "file_extension": ".py",
   "mimetype": "text/x-python",
   "name": "python",
   "nbconvert_exporter": "python",
   "pygments_lexer": "ipython3",
   "version": "3.10.7"
  },
  "orig_nbformat": 4
 },
 "nbformat": 4,
 "nbformat_minor": 2
}
